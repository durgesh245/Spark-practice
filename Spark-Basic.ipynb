{
 "cells": [
  {
   "cell_type": "markdown",
   "id": "2b216de5",
   "metadata": {},
   "source": [
    "# Following the content from <a href=\"https://github.com/XD-DENG/Spark-practice\">Here Spark practice</a>\n",
    "## Here we are doing the basic operations on RDD. \n",
    "\n",
    "## SparkSession vs SparkContext vs SparkSql\n",
    "\n",
    "<img src=\"./sample_data/sparkConetxt_vs_sparkSession.png\" />"
   ]
  },
  {
   "cell_type": "code",
   "execution_count": 2,
   "id": "faa486e5",
   "metadata": {},
   "outputs": [
    {
     "name": "stdout",
     "output_type": "stream",
     "text": [
      "3.3.0\n"
     ]
    }
   ],
   "source": [
    "import findspark\n",
    "findspark.init()\n",
    "import pyspark\n",
    "from pyspark.sql import SparkSession\n",
    "spark = SparkSession.builder.getOrCreate()\n",
    "sc  = spark.sparkContext\n",
    "print(spark.sparkContext.version)"
   ]
  },
  {
   "cell_type": "code",
   "execution_count": 3,
   "id": "d98b5bad",
   "metadata": {},
   "outputs": [
    {
     "data": {
      "text/plain": [
       "421970"
      ]
     },
     "execution_count": 3,
     "metadata": {},
     "output_type": "execute_result"
    }
   ],
   "source": [
    "raw_content = sc.textFile(\"./sample_data/2015-12-12.csv\")\n",
    "type(raw_content)\n",
    "raw_content.count()"
   ]
  },
  {
   "cell_type": "markdown",
   "id": "ec306ebc",
   "metadata": {},
   "source": [
    "## RDD based useful operations"
   ]
  },
  {
   "cell_type": "code",
   "execution_count": 4,
   "id": "7ee48d03",
   "metadata": {},
   "outputs": [
    {
     "data": {
      "text/plain": [
       "['\"date\",\"time\",\"size\",\"r_version\",\"r_arch\",\"r_os\",\"package\",\"version\",\"country\",\"ip_id\"',\n",
       " '\"2015-12-12\",\"13:42:10\",257886,\"3.2.2\",\"i386\",\"mingw32\",\"HistData\",\"0.7-6\",\"CZ\",1',\n",
       " '\"2015-12-12\",\"13:24:37\",1236751,\"3.2.2\",\"x86_64\",\"mingw32\",\"RJSONIO\",\"1.3-0\",\"DE\",2',\n",
       " '\"2015-12-12\",\"13:42:35\",2077876,\"3.2.2\",\"i386\",\"mingw32\",\"UsingR\",\"2.0-5\",\"CZ\",1',\n",
       " '\"2015-12-12\",\"13:42:01\",266724,\"3.2.2\",\"i386\",\"mingw32\",\"gridExtra\",\"2.0.0\",\"CZ\",1']"
      ]
     },
     "execution_count": 4,
     "metadata": {},
     "output_type": "execute_result"
    }
   ],
   "source": [
    "raw_content.take(5)"
   ]
  },
  {
   "cell_type": "code",
   "execution_count": 5,
   "id": "7d1c569f",
   "metadata": {},
   "outputs": [
    {
     "data": {
      "text/plain": [
       "['\"2015-12-12\",\"16:21:18\",89895,\"3.2.3\",\"x86_64\",\"linux-gnu\",\"qlcVisualize\",\"0.1.0\",\"KR\",4986',\n",
       " '\"2015-12-12\",\"13:18:27\",121790,\"3.2.3\",\"x86_64\",\"linux-gnu\",\"bfast\",\"1.5.7\",\"HU\",1402',\n",
       " '\"2015-12-12\",\"19:12:27\",45185,\"3.2.3\",\"x86_64\",\"linux-gnu\",\"spatial\",\"7.3-11\",\"US\",1163',\n",
       " '\"2015-12-12\",\"20:10:41\",166008,\"3.2.3\",\"x86_64\",\"linux-gnu\",\"markdown\",\"0.7.7\",\"IR\",7338',\n",
       " '\"2015-12-12\",\"07:53:31\",1579595,\"3.2.2\",\"x86_64\",\"mingw32\",\"sp\",\"1.2-1\",\"GB\",6906']"
      ]
     },
     "execution_count": 5,
     "metadata": {},
     "output_type": "execute_result"
    }
   ],
   "source": [
    "raw_content.takeSample(False, 5)"
   ]
  },
  {
   "cell_type": "code",
   "execution_count": 23,
   "id": "2b122f54",
   "metadata": {},
   "outputs": [
    {
     "data": {
      "text/plain": [
       "['\"2015-12-12\",\"05:59:48\",232128,\"3.2.1\",\"i386\",\"mingw32\",\"effects\",\"3.0-4\",\"US\",10364',\n",
       " '\"2015-12-12\",\"05:10:24\",287843,\"3.2.2\",\"x86_64\",\"mingw32\",\"xtable\",\"1.8-0\",\"US\",5665',\n",
       " '\"2015-12-12\",\"13:06:32\",494138,\"3.2.3\",\"x86_64\",\"linux-gnu\",\"rjson\",\"0.2.15\",\"KR\",655',\n",
       " '\"2015-12-12\",\"23:29:36\",1350975,\"3.2.3\",\"x86_64\",\"mingw32\",\"randtoolbox\",\"1.17\",\"US\",6509',\n",
       " '\"2015-12-12\",\"13:13:13\",1539904,\"3.2.3\",\"x86_64\",\"linux-gnu\",\"SpatialExtremes\",\"2.0-2\",\"GB\",548']"
      ]
     },
     "execution_count": 23,
     "metadata": {},
     "output_type": "execute_result"
    }
   ],
   "source": [
    "raw_content.takeSample(True, 5, 3)"
   ]
  },
  {
   "cell_type": "code",
   "execution_count": 6,
   "id": "0506ea4a",
   "metadata": {},
   "outputs": [
    {
     "name": "stdout",
     "output_type": "stream",
     "text": [
      "<class 'list'>\n",
      "[['\"date\"', '\"time\"', '\"size\"', '\"r_version\"', '\"r_arch\"', '\"r_os\"', '\"package\"', '\"version\"', '\"country\"', '\"ip_id\"'], ['\"2015-12-12\"', '\"13:42:10\"', '257886', '\"3.2.2\"', '\"i386\"', '\"mingw32\"', '\"HistData\"', '\"0.7-6\"', '\"CZ\"', '1']]\n"
     ]
    }
   ],
   "source": [
    "content = raw_content.map(lambda x : x.split(','))\n",
    "tmp_content = content.take(2)\n",
    "print(type(tmp_content))\n",
    "print(tmp_content)"
   ]
  },
  {
   "cell_type": "code",
   "execution_count": 7,
   "id": "ed74ad23",
   "metadata": {},
   "outputs": [],
   "source": [
    "def clean(val):\n",
    "    return([x.replace('\"', '') for x in val])"
   ]
  },
  {
   "cell_type": "code",
   "execution_count": 8,
   "id": "dfb59552",
   "metadata": {},
   "outputs": [
    {
     "name": "stdout",
     "output_type": "stream",
     "text": [
      "[['date', 'time', 'size', 'r_version', 'r_arch', 'r_os', 'package', 'version', 'country', 'ip_id'], ['2015-12-12', '13:42:10', '257886', '3.2.2', 'i386', 'mingw32', 'HistData', '0.7-6', 'CZ', '1']]\n"
     ]
    }
   ],
   "source": [
    "content = content.map(clean)\n",
    "print(content.take(2))"
   ]
  },
  {
   "cell_type": "code",
   "execution_count": 9,
   "id": "b085b884",
   "metadata": {},
   "outputs": [
    {
     "name": "stdout",
     "output_type": "stream",
     "text": [
      "4219700\n",
      "['date', 'time', 'size', 'r_version', 'r_arch', 'r_os', 'package', 'version', 'country', 'ip_id', '2015-12-12', '13:42:10', '257886', '3.2.2', 'i386', 'mingw32', 'HistData', '0.7-6', 'CZ', '1', '2015-12-12', '13:24:37', '1236751', '3.2.2', 'x86_64', 'mingw32', 'RJSONIO', '1.3-0', 'DE', '2']\n"
     ]
    }
   ],
   "source": [
    "content_flat = raw_content.flatMap(lambda x : x.split(',')).map(lambda y : y.replace('\"', ''))\n",
    "print(content_flat.count())\n",
    "print(content_flat.take(30))"
   ]
  },
  {
   "cell_type": "code",
   "execution_count": 91,
   "id": "e62f7430",
   "metadata": {
    "scrolled": true
   },
   "outputs": [
    {
     "name": "stdout",
     "output_type": "stream",
     "text": [
      "<class 'tuple'>\n",
      "<class 'tuple'>\n"
     ]
    }
   ],
   "source": [
    "list1=[1,2]\n",
    "len(list1)\n",
    "list_rdd = sc.parallelize(list1).map(lambda x : (x, 1))\n",
    "for val in list_rdd.collect():\n",
    "    print(type(val))"
   ]
  },
  {
   "cell_type": "markdown",
   "id": "1b12aaf3",
   "metadata": {},
   "source": [
    "# Operations on List of RDD "
   ]
  },
  {
   "cell_type": "code",
   "execution_count": 13,
   "id": "b7f9f9ce",
   "metadata": {},
   "outputs": [
    {
     "name": "stdout",
     "output_type": "stream",
     "text": [
      "<class 'int'>\n",
      "4219700\n"
     ]
    }
   ],
   "source": [
    "reduce = content.map(lambda x : len(x)).reduce(lambda a,b : a+b)\n",
    "print(type(reduce))\n",
    "print(reduce)"
   ]
  },
  {
   "cell_type": "markdown",
   "id": "72dfc418",
   "metadata": {},
   "source": [
    "# Operation on Key-Value Pair of RDD\n",
    "### reduceByKey - Here value will be perform the respective operation defined in lambda function. if value changes during mapping into tuple then result of each key will also affect. It returns list of tuples\n",
    "\n",
    "### countByKey  - Same as above but final value will not chang unlike above. It returns the dictionary"
   ]
  },
  {
   "cell_type": "code",
   "execution_count": 108,
   "id": "bc52127b",
   "metadata": {},
   "outputs": [
    {
     "name": "stdout",
     "output_type": "stream",
     "text": [
      "[('HistData', 159), ('UsingR', 151), ('lme4', 1560), ('testthat', 1178), ('maps', 1586), ('geosphere', 284), ('ryouready', 57), ('gtools', 1544), ('matrixcalc', 204), ('doParallel', 1328)]\n",
      "8660\n"
     ]
    }
   ],
   "source": [
    "reduce_count = content.map(lambda x : (x[6], 1)).reduceByKey(lambda a,b : a+b)\n",
    "print(reduce_count.take(10))\n",
    "print(reduce_count.count())"
   ]
  },
  {
   "cell_type": "code",
   "execution_count": 110,
   "id": "cd4f1e63",
   "metadata": {},
   "outputs": [
    {
     "name": "stdout",
     "output_type": "stream",
     "text": [
      "[('HistData', 318), ('UsingR', 302), ('lme4', 3120), ('testthat', 2356), ('maps', 3172), ('geosphere', 568), ('ryouready', 114), ('gtools', 3088), ('matrixcalc', 408), ('doParallel', 2656)]\n",
      "8660\n"
     ]
    }
   ],
   "source": [
    "reduce_count = content.map(lambda x : (x[6], 2)).reduceByKey(lambda a,b : a+b)\n",
    "print(reduce_count.take(10))\n",
    "print(reduce_count.count())"
   ]
  },
  {
   "cell_type": "code",
   "execution_count": 133,
   "id": "9893f424",
   "metadata": {},
   "outputs": [
    {
     "name": "stdout",
     "output_type": "stream",
     "text": [
      "8660\n",
      "159\n"
     ]
    }
   ],
   "source": [
    "reduce_count1 = content.map(lambda x : (x[6], 1)).countByKey()\n",
    "print(len(reduce_count1))\n",
    "print(reduce_count1['HistData'])"
   ]
  },
  {
   "cell_type": "code",
   "execution_count": 50,
   "id": "443f06f1",
   "metadata": {},
   "outputs": [
    {
     "name": "stdout",
     "output_type": "stream",
     "text": [
      "Performing group by key operation which not recommended.\n",
      "4\n",
      "[('UsingR', 151), ('lme4', 1560), ('geosphere', 284), ('htmltools', 1350), ('TH.data', 532), ('rmarkdown', 997), ('rgl', 1084)]\n"
     ]
    }
   ],
   "source": [
    "print(\"Performing group by key operation which not recommended.\")\n",
    "groupByCount = content.map(lambda x : (x[6], 1)).groupByKey(4).mapValues(len)\n",
    "print(groupByCount.getNumPartitions())\n",
    "print(groupByCount.take(7))"
   ]
  },
  {
   "cell_type": "markdown",
   "id": "25da6ba0",
   "metadata": {},
   "source": [
    "# Sorting"
   ]
  },
  {
   "cell_type": "code",
   "execution_count": 122,
   "id": "ee401b59",
   "metadata": {},
   "outputs": [
    {
     "name": "stdout",
     "output_type": "stream",
     "text": [
      "sorting on List of tuples data received by reduceByKey\n",
      "[(9566, 'Rcpp'), (7826, 'ggplot2'), (7496, 'stringi'), (6898, 'stringr'), (6872, 'plyr'), (6530, 'magrittr'), (6446, 'digest'), (6410, 'reshape2'), (6092, 'RColorBrewer'), (6014, 'scales')]\n"
     ]
    }
   ],
   "source": [
    "print(\"sorting on List of tuples data received by reduceByKey in ascending order\")\n",
    "sorted_data_by_key1 = reduce_count.map(lambda x : (x[1], x[0])).sortByKey(0).take(10)\n",
    "print(sorted_data_by_key1)"
   ]
  },
  {
   "cell_type": "code",
   "execution_count": 123,
   "id": "01172769",
   "metadata": {},
   "outputs": [
    {
     "name": "stdout",
     "output_type": "stream",
     "text": [
      "sorting on List of tuples data received by reduceByKey in decending order\n",
      "[(2, 'multic'), (2, 'RBerkeley'), (2, 'vimcom'), (2, 'waldwolf'), (2, 'bstats'), (2, 'parspatstat'), (2, 'WaveCGH'), (2, 'mixnet'), (2, 'postgwas'), (2, 'rolasized')]\n"
     ]
    }
   ],
   "source": [
    "print(\"sorting on List of tuples data received by reduceByKey in decending order\")\n",
    "sorted_data_by_key1 = reduce_count.map(lambda x : (x[1], x[0])).sortByKey(1).take(10)\n",
    "print(sorted_data_by_key1)"
   ]
  },
  {
   "cell_type": "code",
   "execution_count": 125,
   "id": "e9631941",
   "metadata": {},
   "outputs": [
    {
     "name": "stdout",
     "output_type": "stream",
     "text": [
      "sorting on List of tuples data received by reduceByKey in ascending order using sortBy and single field\n",
      "[('multic', 2), ('RBerkeley', 2), ('vimcom', 2), ('waldwolf', 2), ('bstats', 2), ('parspatstat', 2), ('WaveCGH', 2), ('mixnet', 2), ('postgwas', 2), ('rolasized', 2)]\n"
     ]
    }
   ],
   "source": [
    "print(\"sorting on List of tuples data received by reduceByKey in ascending order using sortBy and single field\")\n",
    "sorted_data_by_key1 = reduce_count.sortBy(lambda x : x[1], ascending = True).take(10)\n",
    "print(sorted_data_by_key1)"
   ]
  },
  {
   "cell_type": "code",
   "execution_count": 127,
   "id": "0178642d",
   "metadata": {},
   "outputs": [
    {
     "name": "stdout",
     "output_type": "stream",
     "text": [
      "sorting on List of tuples data received by reduceByKey in ascending order using sortBy and multiple fields\n",
      "[('ARAMIS', 2), ('BINCO', 2), ('BMAmevt', 2), ('CAscaling', 2), ('CPGchron', 2), ('CVD', 2), ('ChangeAnomalyDetection', 2), ('DART', 2), ('EDanalysis', 2), ('EasyUpliftTree', 2)]\n"
     ]
    }
   ],
   "source": [
    "print(\"sorting on List of tuples data received by reduceByKey in ascending order using sortBy and multiple fields\")\n",
    "sorted_data_by_key1 = reduce_count.sortBy(lambda x : (x[1], x[0]), ascending = True).take(10)\n",
    "print(sorted_data_by_key1)"
   ]
  },
  {
   "cell_type": "code",
   "execution_count": 144,
   "id": "e0c67e17",
   "metadata": {
    "scrolled": true
   },
   "outputs": [
    {
     "name": "stdout",
     "output_type": "stream",
     "text": [
      "sorting on dictionary data received by countByKey. Parallelize always expects the keys\n",
      "<class 'collections.defaultdict'>\n",
      "[(4783, 'Rcpp'), (3913, 'ggplot2'), (3748, 'stringi'), (3449, 'stringr'), (3436, 'plyr'), (3265, 'magrittr'), (3223, 'digest'), (3205, 'reshape2'), (3046, 'RColorBrewer'), (3007, 'scales')]\n"
     ]
    }
   ],
   "source": [
    "print(\"sorting on dictionary data received by countByKey. Parallelize always expects the keys\")\n",
    "print(type(reduce_count1))\n",
    "sorted_data_by_key = sc.parallelize(reduce_count1.keys()).map(lambda x : (reduce_count1[x], x)).sortByKey(0).take(10)\n",
    "print(sorted_data_by_key)"
   ]
  },
  {
   "cell_type": "markdown",
   "id": "7a2e7144",
   "metadata": {},
   "source": [
    "# Filter"
   ]
  },
  {
   "cell_type": "code",
   "execution_count": 151,
   "id": "57287519",
   "metadata": {},
   "outputs": [
    {
     "name": "stdout",
     "output_type": "stream",
     "text": [
      "<class 'pyspark.rdd.PipelinedRDD'>\n",
      "Printing result as List. Never use collect() in production.\n",
      "[['2015-12-12', '20:15:24', '23820', '3.2.2', 'x86_64', 'mingw32', 'Rtts', '0.3.3', 'CN', '41']]\n"
     ]
    }
   ],
   "source": [
    "filter_content = content.filter(lambda x : x[6] == 'Rtts' and x[8] == 'CN')\n",
    "print(type(filter_content))\n",
    "print(\"Printing result as List. Never use collect() in production.\")\n",
    "print(filter_content.collect())"
   ]
  },
  {
   "cell_type": "markdown",
   "id": "e2260b78",
   "metadata": {},
   "source": [
    "# Set Operations"
   ]
  },
  {
   "cell_type": "code",
   "execution_count": 155,
   "id": "f1a0f888",
   "metadata": {},
   "outputs": [
    {
     "name": "stdout",
     "output_type": "stream",
     "text": [
      "421970\n",
      "843940\n",
      "421553\n"
     ]
    }
   ],
   "source": [
    "print(raw_content.count())\n",
    "print(raw_content.union(raw_content).count())\n",
    "print(raw_content.intersection(raw_content).count())"
   ]
  },
  {
   "cell_type": "code",
   "execution_count": 156,
   "id": "f46e47f4",
   "metadata": {},
   "outputs": [
    {
     "name": "stdout",
     "output_type": "stream",
     "text": [
      "421553\n"
     ]
    }
   ],
   "source": [
    "print(raw_content.distinct().count())"
   ]
  },
  {
   "cell_type": "markdown",
   "id": "5ee65527",
   "metadata": {},
   "source": [
    "# Joins"
   ]
  },
  {
   "cell_type": "code",
   "execution_count": 30,
   "id": "dc4bb2fc",
   "metadata": {},
   "outputs": [
    {
     "name": "stdout",
     "output_type": "stream",
     "text": [
      "[('country', ['date', 'time', 'size', 'r_version', 'r_arch', 'r_os', 'package', 'version', 'country', 'ip_id']), ('CZ', ['2015-12-12', '13:42:10', '257886', '3.2.2', 'i386', 'mingw32', 'HistData', '0.7-6', 'CZ', '1'])]\n"
     ]
    }
   ],
   "source": [
    "spark.conf.set(\"spark.sql.shuffle.partitions\", \"3\")\n",
    "content_modified=content.map(lambda x:(x[8], x))\n",
    "print(content_modified.take(2))"
   ]
  },
  {
   "cell_type": "code",
   "execution_count": 31,
   "id": "d8a39d21",
   "metadata": {},
   "outputs": [],
   "source": [
    "mapping=[('DE', 'Germany'), ('US', 'United States'), ('CN', 'China'), ('IN',\"India\")]\n",
    "mapping=sc.parallelize(mapping)"
   ]
  },
  {
   "cell_type": "code",
   "execution_count": 32,
   "id": "12e05c8d",
   "metadata": {},
   "outputs": [
    {
     "name": "stdout",
     "output_type": "stream",
     "text": [
      "Inner join on the basis of any matching fields start with position 1.\n",
      "2\n",
      "[('DE', (['2015-12-12', '13:24:37', '1236751', '3.2.2', 'x86_64', 'mingw32', 'RJSONIO', '1.3-0', 'DE', '2'], 'Germany')), ('DE', (['2015-12-12', '13:00:21', '3687766', 'NA', 'NA', 'NA', 'lme4', '1.1-10', 'DE', '3'], 'Germany')), ('DE', (['2015-12-12', '13:08:56', '57429', 'NA', 'NA', 'NA', 'testthat', '0.11.0', 'DE', '3'], 'Germany')), ('DE', (['2015-12-12', '13:08:09', '216068', '3.2.2', 'x86_64', 'mingw32', 'mvtnorm', '1.0-3', 'DE', '4'], 'Germany')), ('DE', (['2015-12-12', '13:25:00', '3595497', '3.2.2', 'x86_64', 'mingw32', 'maps', '3.0.1', 'DE', '2'], 'Germany')), ('DE', (['2015-12-12', '13:25:05', '1579597', '3.2.2', 'x86_64', 'mingw32', 'sp', '1.2-1', 'DE', '2'], 'Germany')), ('DE', (['2015-12-12', '13:25:21', '892152', '3.2.3', 'x86_64', 'mingw32', 'geosphere', '1.4-3', 'DE', '2'], 'Germany')), ('DE', (['2015-12-12', '10:43:38', '74715', '3.1.3', 'x86_64', 'mingw32', 'ryouready', '0.4', 'DE', '5'], 'Germany')), ('DE', (['2015-12-12', '20:57:34', '12695982', 'NA', 'NA', 'NA', 'stringi', '1.0-1', 'DE', '54'], 'Germany')), ('DE', (['2015-12-12', '20:57:19', '2138108', '3.2.3', 'i386', 'mingw32', 'nlme', '3.1-122', 'DE', '69'], 'Germany'))]\n"
     ]
    }
   ],
   "source": [
    "print(\"Inner join on the basis of any matching fields start with position 1.\")\n",
    "print(content_modified.getNumPartitions())\n",
    "innerJoinValue = content_modified.join(mapping)\n",
    "print(innerJoinValue.take(10))\n",
    "innerJoinValue.cache();"
   ]
  },
  {
   "cell_type": "markdown",
   "id": "d7ad7359",
   "metadata": {},
   "source": [
    "### cache() vs persist()\n",
    "#### The cache() method is a shorthand for using the default storage level, which is StorageLevel.MEMORY_ONLY (store deserialized objects in memory) while  persist() method will support both Memory as well as DICK level caching of data. We have to pass the storage level in case of persist() method."
   ]
  },
  {
   "cell_type": "code",
   "execution_count": 33,
   "id": "382542aa",
   "metadata": {},
   "outputs": [
    {
     "name": "stdout",
     "output_type": "stream",
     "text": [
      "Value after Cached into Memory.\n",
      "[('DE', (['2015-12-12', '13:24:37', '1236751', '3.2.2', 'x86_64', 'mingw32', 'RJSONIO', '1.3-0', 'DE', '2'], 'Germany')), ('DE', (['2015-12-12', '13:00:21', '3687766', 'NA', 'NA', 'NA', 'lme4', '1.1-10', 'DE', '3'], 'Germany')), ('DE', (['2015-12-12', '13:08:56', '57429', 'NA', 'NA', 'NA', 'testthat', '0.11.0', 'DE', '3'], 'Germany')), ('DE', (['2015-12-12', '13:08:09', '216068', '3.2.2', 'x86_64', 'mingw32', 'mvtnorm', '1.0-3', 'DE', '4'], 'Germany')), ('DE', (['2015-12-12', '13:25:00', '3595497', '3.2.2', 'x86_64', 'mingw32', 'maps', '3.0.1', 'DE', '2'], 'Germany')), ('DE', (['2015-12-12', '13:25:05', '1579597', '3.2.2', 'x86_64', 'mingw32', 'sp', '1.2-1', 'DE', '2'], 'Germany')), ('DE', (['2015-12-12', '13:25:21', '892152', '3.2.3', 'x86_64', 'mingw32', 'geosphere', '1.4-3', 'DE', '2'], 'Germany')), ('DE', (['2015-12-12', '10:43:38', '74715', '3.1.3', 'x86_64', 'mingw32', 'ryouready', '0.4', 'DE', '5'], 'Germany')), ('DE', (['2015-12-12', '20:57:34', '12695982', 'NA', 'NA', 'NA', 'stringi', '1.0-1', 'DE', '54'], 'Germany')), ('DE', (['2015-12-12', '20:57:19', '2138108', '3.2.3', 'i386', 'mingw32', 'nlme', '3.1-122', 'DE', '69'], 'Germany'))]\n"
     ]
    }
   ],
   "source": [
    "print(\"Value after Cached into Memory.\")\n",
    "print(innerJoinValue.take(10))"
   ]
  },
  {
   "cell_type": "code",
   "execution_count": 34,
   "id": "c280d9f3",
   "metadata": {},
   "outputs": [
    {
     "name": "stdout",
     "output_type": "stream",
     "text": [
      "Left Outer join.\n",
      "[('ES', (['2015-12-12', '20:56:16', '802583', '3.1.0', 'x86_64', 'mingw32', 'mgcv', '1.8-10', 'ES', '6'], None)), ('ES', (['2015-12-12', '20:57:27', '13847206', '3.1.1', 'x86_64', 'mingw32', 'BH', '1.58.0-1', 'ES', '58'], None)), ('ES', (['2015-12-12', '20:57:39', '2553171', '3.2.0', 'x86_64', 'darwin13.4.0', 'dplyr', '0.4.3', 'ES', '58'], None)), ('ES', (['2015-12-12', '20:58:16', '256800', '3.2.3', 'i386', 'mingw32', 'signal', '0.7-6', 'ES', '81'], None))]\n"
     ]
    }
   ],
   "source": [
    "print(\"Left Outer join.\")\n",
    "content_modified.cache()\n",
    "print(content_modified.leftOuterJoin(mapping).take(4))"
   ]
  },
  {
   "cell_type": "code",
   "execution_count": 37,
   "id": "860ba316",
   "metadata": {},
   "outputs": [
    {
     "name": "stdout",
     "output_type": "stream",
     "text": [
      "[('DE', (['2015-12-12', '13:24:37', '1236751', '3.2.2', 'x86_64', 'mingw32', 'RJSONIO', '1.3-0', 'DE', '2'], 'Germany')), ('DE', (['2015-12-12', '13:00:21', '3687766', 'NA', 'NA', 'NA', 'lme4', '1.1-10', 'DE', '3'], 'Germany')), ('DE', (['2015-12-12', '13:08:56', '57429', 'NA', 'NA', 'NA', 'testthat', '0.11.0', 'DE', '3'], 'Germany')), ('DE', (['2015-12-12', '13:08:09', '216068', '3.2.2', 'x86_64', 'mingw32', 'mvtnorm', '1.0-3', 'DE', '4'], 'Germany')), ('DE', (['2015-12-12', '13:25:00', '3595497', '3.2.2', 'x86_64', 'mingw32', 'maps', '3.0.1', 'DE', '2'], 'Germany'))]\n"
     ]
    }
   ],
   "source": [
    "print(innerJoinValue.take(5))"
   ]
  },
  {
   "cell_type": "code",
   "execution_count": 38,
   "id": "746e7410",
   "metadata": {},
   "outputs": [
    {
     "name": "stdout",
     "output_type": "stream",
     "text": [
      "[('country', ['date', 'time', 'size', 'r_version', 'r_arch', 'r_os', 'package', 'version', 'country', 'ip_id']), ('CZ', ['2015-12-12', '13:42:10', '257886', '3.2.2', 'i386', 'mingw32', 'HistData', '0.7-6', 'CZ', '1']), ('DE', ['2015-12-12', '13:24:37', '1236751', '3.2.2', 'x86_64', 'mingw32', 'RJSONIO', '1.3-0', 'DE', '2']), ('CZ', ['2015-12-12', '13:42:35', '2077876', '3.2.2', 'i386', 'mingw32', 'UsingR', '2.0-5', 'CZ', '1']), ('CZ', ['2015-12-12', '13:42:01', '266724', '3.2.2', 'i386', 'mingw32', 'gridExtra', '2.0.0', 'CZ', '1'])]\n"
     ]
    }
   ],
   "source": [
    "print(content_modified.take(5))"
   ]
  },
  {
   "cell_type": "code",
   "execution_count": 42,
   "id": "d0cca6b8",
   "metadata": {},
   "outputs": [
    {
     "name": "stdout",
     "output_type": "stream",
     "text": [
      "[['date', 'time', 'size', 'r_version', 'r_arch', 'r_os', 'package', 'version', 'country', 'ip_id'], ['2015-12-12', '13:42:10', '257886', '3.2.2', 'i386', 'mingw32', 'HistData', '0.7-6', 'CZ', '1'], ['2015-12-12', '13:24:37', '1236751', '3.2.2', 'x86_64', 'mingw32', 'RJSONIO', '1.3-0', 'DE', '2'], ['2015-12-12', '13:42:35', '2077876', '3.2.2', 'i386', 'mingw32', 'UsingR', '2.0-5', 'CZ', '1'], ['2015-12-12', '13:42:01', '266724', '3.2.2', 'i386', 'mingw32', 'gridExtra', '2.0.0', 'CZ', '1'], ['2015-12-12', '13:00:21', '3687766', 'NA', 'NA', 'NA', 'lme4', '1.1-10', 'DE', '3']]\n",
      "[['date', 'time', 'size', 'r_version', 'r_arch', 'r_os', 'package', 'version', 'country', 'ip_id'], ['2015-12-12', '13:42:10', '257886', '3.2.2', 'i386', 'mingw32', 'HistData', '0.7-6', 'CZ', '1'], ['2015-12-12', '13:24:37', '1236751', '3.2.2', 'x86_64', 'mingw32', 'RJSONIO', '1.3-0', 'DE', '2'], ['2015-12-12', '13:42:35', '2077876', '3.2.2', 'i386', 'mingw32', 'UsingR', '2.0-5', 'CZ', '1'], ['2015-12-12', '13:42:01', '266724', '3.2.2', 'i386', 'mingw32', 'gridExtra', '2.0.0', 'CZ', '1'], ['2015-12-12', '13:00:21', '3687766', 'NA', 'NA', 'NA', 'lme4', '1.1-10', 'DE', '3']]\n"
     ]
    }
   ],
   "source": [
    "print(content.take(6))\n",
    "content.cache()\n",
    "print(content.take(6))"
   ]
  },
  {
   "cell_type": "code",
   "execution_count": 52,
   "id": "b1ec1e91",
   "metadata": {},
   "outputs": [
    {
     "ename": "AttributeError",
     "evalue": "'NoneType' object has no attribute 'sc'",
     "output_type": "error",
     "traceback": [
      "\u001b[1;31m---------------------------------------------------------------------------\u001b[0m",
      "\u001b[1;31mAttributeError\u001b[0m                            Traceback (most recent call last)",
      "Input \u001b[1;32mIn [52]\u001b[0m, in \u001b[0;36m<cell line: 2>\u001b[1;34m()\u001b[0m\n\u001b[0;32m      1\u001b[0m \u001b[38;5;66;03m#content.unpersist()\u001b[39;00m\n\u001b[1;32m----> 2\u001b[0m \u001b[38;5;28mprint\u001b[39m(\u001b[43mcontent\u001b[49m\u001b[38;5;241;43m.\u001b[39;49m\u001b[43mtake\u001b[49m\u001b[43m(\u001b[49m\u001b[38;5;241;43m6\u001b[39;49m\u001b[43m)\u001b[49m)\n",
      "File \u001b[1;32mD:\\installation\\spark-3.3.0-bin-hadoop2\\python\\pyspark\\rdd.py:1883\u001b[0m, in \u001b[0;36mRDD.take\u001b[1;34m(self, num)\u001b[0m\n\u001b[0;32m   1880\u001b[0m         taken \u001b[38;5;241m+\u001b[39m\u001b[38;5;241m=\u001b[39m \u001b[38;5;241m1\u001b[39m\n\u001b[0;32m   1882\u001b[0m p \u001b[38;5;241m=\u001b[39m \u001b[38;5;28mrange\u001b[39m(partsScanned, \u001b[38;5;28mmin\u001b[39m(partsScanned \u001b[38;5;241m+\u001b[39m numPartsToTry, totalParts))\n\u001b[1;32m-> 1883\u001b[0m res \u001b[38;5;241m=\u001b[39m \u001b[38;5;28;43mself\u001b[39;49m\u001b[38;5;241;43m.\u001b[39;49m\u001b[43mcontext\u001b[49m\u001b[38;5;241;43m.\u001b[39;49m\u001b[43mrunJob\u001b[49m\u001b[43m(\u001b[49m\u001b[38;5;28;43mself\u001b[39;49m\u001b[43m,\u001b[49m\u001b[43m \u001b[49m\u001b[43mtakeUpToNumLeft\u001b[49m\u001b[43m,\u001b[49m\u001b[43m \u001b[49m\u001b[43mp\u001b[49m\u001b[43m)\u001b[49m\n\u001b[0;32m   1885\u001b[0m items \u001b[38;5;241m+\u001b[39m\u001b[38;5;241m=\u001b[39m res\n\u001b[0;32m   1886\u001b[0m partsScanned \u001b[38;5;241m+\u001b[39m\u001b[38;5;241m=\u001b[39m numPartsToTry\n",
      "File \u001b[1;32mD:\\installation\\spark-3.3.0-bin-hadoop2\\python\\pyspark\\context.py:1486\u001b[0m, in \u001b[0;36mSparkContext.runJob\u001b[1;34m(self, rdd, partitionFunc, partitions, allowLocal)\u001b[0m\n\u001b[0;32m   1484\u001b[0m mappedRDD \u001b[38;5;241m=\u001b[39m rdd\u001b[38;5;241m.\u001b[39mmapPartitions(partitionFunc)\n\u001b[0;32m   1485\u001b[0m \u001b[38;5;28;01massert\u001b[39;00m \u001b[38;5;28mself\u001b[39m\u001b[38;5;241m.\u001b[39m_jvm \u001b[38;5;129;01mis\u001b[39;00m \u001b[38;5;129;01mnot\u001b[39;00m \u001b[38;5;28;01mNone\u001b[39;00m\n\u001b[1;32m-> 1486\u001b[0m sock_info \u001b[38;5;241m=\u001b[39m \u001b[38;5;28mself\u001b[39m\u001b[38;5;241m.\u001b[39m_jvm\u001b[38;5;241m.\u001b[39mPythonRDD\u001b[38;5;241m.\u001b[39mrunJob(\u001b[38;5;28;43mself\u001b[39;49m\u001b[38;5;241;43m.\u001b[39;49m\u001b[43m_jsc\u001b[49m\u001b[38;5;241;43m.\u001b[39;49m\u001b[43msc\u001b[49m(), mappedRDD\u001b[38;5;241m.\u001b[39m_jrdd, partitions)\n\u001b[0;32m   1487\u001b[0m \u001b[38;5;28;01mreturn\u001b[39;00m \u001b[38;5;28mlist\u001b[39m(_load_from_socket(sock_info, mappedRDD\u001b[38;5;241m.\u001b[39m_jrdd_deserializer))\n",
      "\u001b[1;31mAttributeError\u001b[0m: 'NoneType' object has no attribute 'sc'"
     ]
    }
   ],
   "source": [
    "#content.unpersist()\n",
    "print(content.take(6))"
   ]
  },
  {
   "cell_type": "code",
   "execution_count": 51,
   "id": "0e5a8a86",
   "metadata": {},
   "outputs": [],
   "source": [
    "spark.stop()"
   ]
  },
  {
   "cell_type": "code",
   "execution_count": null,
   "id": "1d9de168",
   "metadata": {},
   "outputs": [],
   "source": [
    "print(sc.)"
   ]
  }
 ],
 "metadata": {
  "kernelspec": {
   "display_name": "Python 3 (ipykernel)",
   "language": "python",
   "name": "python3"
  },
  "language_info": {
   "codemirror_mode": {
    "name": "ipython",
    "version": 3
   },
   "file_extension": ".py",
   "mimetype": "text/x-python",
   "name": "python",
   "nbconvert_exporter": "python",
   "pygments_lexer": "ipython3",
   "version": "3.9.10"
  }
 },
 "nbformat": 4,
 "nbformat_minor": 5
}
